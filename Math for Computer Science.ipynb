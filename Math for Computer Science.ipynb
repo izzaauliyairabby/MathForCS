{
 "cells": [
  {
   "cell_type": "markdown",
   "metadata": {},
   "source": [
    "# Math For Computer Science"
   ]
  },
  {
   "cell_type": "markdown",
   "metadata": {},
   "source": [
    "## Binary Math\n",
    "\n",
    "Binary math is the heart of computer operation and among the most essential types of math used in computer science. Binary is used to symbolize every number within the computer. The binary number system is an alternative to the decimal system. Using this system simplifies computer design. Reading and simple mathematical operations are vital for hardware low-level programming. Knowing how to work with a hexadecimal number system is necessary for various programming functions, including setting the color of an item. Standard arithmetic is utilized in numerous functions of computer programming. In nearly every written program, addition, subtraction, multiplication, and division area used."
   ]
  },
  {
   "cell_type": "markdown",
   "metadata": {},
   "source": [
    "## College Algebra\n",
    "\n",
    "College algebra covers various concepts, including linear equations, operations, factoring, exponents, polynomials, quadratic equations, rational expressions, radicals, ratios, proportions, and rectangular coordinates. It focuses on algebraic relationships, graphs, and functions and students learn to solve for one or two unknown variables in various complex equations. Students also learn how to graph algebraic functions. Algebra is used in computer science in the development of algorithms and software for working with mathematical objects. It is also used to design formulas that are used in numerical programs and for complete scientific computations."
   ]
  },
  {
   "cell_type": "markdown",
   "metadata": {},
   "source": [
    "## Statistics\n",
    "\n",
    "Statistics is a form of math used in computer science that uses quantified models, representations, and synopses for a provided collection of experimental data or actual studies. The field studies methodologies to obtain, review, evaluate, and form conclusions from data. Some statistical measures include mean, skewness, regression analysis, variance, analysis of variance, and kurtosis. Statistics plays a fundamental part in computer science as it is used for data mining, speech recognition, vision and image analysis,  data compression, traffic modeling, and even artificial intelligence, as shared by Medium. It is also used for simulations. A background in statistics is needed to understand algorithms and statistical properties of computer science.\n"
   ]
  },
  {
   "cell_type": "markdown",
   "metadata": {},
   "source": [
    "## Calculus\n",
    "\n",
    "Calculus is the examination of continuous change and the rates change occurs. It handles the finding and properties of integrals and derivatives of functions. There are two types of calculus, differential calculus, and integral calculus. Differential calculus deals with the rate of change of a quantity. Integral calculus determines the quantity where the change rate is known. Calculus is used in an array of computer science areas, including creating graphs or visuals, simulations, problem-solving applications, coding in applications, creating statistic solvers, and the design and analysis of algorithms."
   ]
  },
  {
   "cell_type": "markdown",
   "metadata": {},
   "source": [
    "## Discrete Math\n",
    "\n",
    "Discrete math examines objects that care be represented finitely. It includes a variety of topics that can be used to answer various tangible inquiries. It involves several concepts, including logic, number theory, counting, probability, graph theory, and recurrences. Discrete math provides an important foundation for all areas of computer science. Discrete math is used in various areas including computer architecture, algorithms, computer systems, databases, functional programming, distributed systems, machine learning, operating systems, computer security, and networks. The problem-solving methods taught in discrete math are needed for composing complicated software.\n",
    "\n",
    "Students who enjoy computers and possess strong problem-solving skills will find a career in computer science lucrative and rewarding, with the Bureau of Labor Statistics providing key data on this field. Completing courses in binary math, college algebra, statistics, calculus, and discrete math is an ideal way of gaining a solid foundation in the different types of math used for computer science."
   ]
  },
  {
   "cell_type": "code",
   "execution_count": null,
   "metadata": {},
   "outputs": [],
   "source": []
  },
  {
   "cell_type": "code",
   "execution_count": null,
   "metadata": {},
   "outputs": [],
   "source": []
  }
 ],
 "metadata": {
  "kernelspec": {
   "display_name": "Python 3",
   "language": "python",
   "name": "python3"
  },
  "language_info": {
   "codemirror_mode": {
    "name": "ipython",
    "version": 3
   },
   "file_extension": ".py",
   "mimetype": "text/x-python",
   "name": "python",
   "nbconvert_exporter": "python",
   "pygments_lexer": "ipython3",
   "version": "3.8.3"
  }
 },
 "nbformat": 4,
 "nbformat_minor": 4
}
